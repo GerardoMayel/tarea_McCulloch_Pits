{
  "nbformat": 4,
  "nbformat_minor": 0,
  "metadata": {
    "colab": {
      "name": "McCulloch_Pits.ipynb",
      "provenance": [],
      "collapsed_sections": [],
      "authorship_tag": "ABX9TyNLuHow8tVTdULRXsXq0BfJ"
    },
    "kernelspec": {
      "name": "python3",
      "display_name": "Python 3"
    },
    "language_info": {
      "name": "python"
    }
  },
  "cells": [
    {
      "cell_type": "markdown",
      "metadata": {
        "id": "antzlJDuVEit"
      },
      "source": [
        "# Librerías"
      ]
    },
    {
      "cell_type": "code",
      "metadata": {
        "id": "dp0QmfwqujUU"
      },
      "source": [
        "import pandas as pd\n",
        "import numpy as np\n",
        "import matplotlib.pyplot as plt"
      ],
      "execution_count": 1,
      "outputs": []
    },
    {
      "cell_type": "markdown",
      "metadata": {
        "id": "mhwd3D95U50O"
      },
      "source": [
        "# Valores Reales que se obtienen de la compuerta AND"
      ]
    },
    {
      "cell_type": "markdown",
      "metadata": {
        "id": "r9WNcQ1E09t5"
      },
      "source": [
        "<h4>Se crean listas de Python [ ] con los vectores de la compuerta AND<h4>"
      ]
    },
    {
      "cell_type": "code",
      "metadata": {
        "id": "CQHCUF-mvZuS"
      },
      "source": [
        "x1 = [0,0,1,1]\n",
        "x2 = [0,1,0,1]\n",
        "y = [0,0,0,1]"
      ],
      "execution_count": 2,
      "outputs": []
    },
    {
      "cell_type": "markdown",
      "metadata": {
        "id": "-SYr0Zgj1Mhs"
      },
      "source": [
        "<h4>Se crean Numpy Arrays a partir de los vectores de la compuera AND<h4>"
      ]
    },
    {
      "cell_type": "code",
      "metadata": {
        "id": "XSjhpWnP0VD2"
      },
      "source": [
        "x1np = np.array(x1)\n",
        "x2np = np.array(x2)\n",
        "target_y = np.array(y)"
      ],
      "execution_count": 3,
      "outputs": []
    },
    {
      "cell_type": "markdown",
      "metadata": {
        "id": "RLRAHze9285L"
      },
      "source": [
        "Se Crea Data Frame para efectos de crear una tabla visual de la compuerta AND"
      ]
    },
    {
      "cell_type": "code",
      "metadata": {
        "colab": {
          "base_uri": "https://localhost:8080/",
          "height": 175
        },
        "id": "QhlOe2Gm3DRD",
        "outputId": "ded1e5db-b33d-41ef-e047-d8d382cf33a7"
      },
      "source": [
        "AND_df = pd.DataFrame({ 'x1': x1, 'x2':x2, 'y':y })\n",
        "AND_df"
      ],
      "execution_count": 4,
      "outputs": [
        {
          "output_type": "execute_result",
          "data": {
            "text/html": [
              "<div>\n",
              "<style scoped>\n",
              "    .dataframe tbody tr th:only-of-type {\n",
              "        vertical-align: middle;\n",
              "    }\n",
              "\n",
              "    .dataframe tbody tr th {\n",
              "        vertical-align: top;\n",
              "    }\n",
              "\n",
              "    .dataframe thead th {\n",
              "        text-align: right;\n",
              "    }\n",
              "</style>\n",
              "<table border=\"1\" class=\"dataframe\">\n",
              "  <thead>\n",
              "    <tr style=\"text-align: right;\">\n",
              "      <th></th>\n",
              "      <th>x1</th>\n",
              "      <th>x2</th>\n",
              "      <th>y</th>\n",
              "    </tr>\n",
              "  </thead>\n",
              "  <tbody>\n",
              "    <tr>\n",
              "      <th>0</th>\n",
              "      <td>0</td>\n",
              "      <td>0</td>\n",
              "      <td>0</td>\n",
              "    </tr>\n",
              "    <tr>\n",
              "      <th>1</th>\n",
              "      <td>0</td>\n",
              "      <td>1</td>\n",
              "      <td>0</td>\n",
              "    </tr>\n",
              "    <tr>\n",
              "      <th>2</th>\n",
              "      <td>1</td>\n",
              "      <td>0</td>\n",
              "      <td>0</td>\n",
              "    </tr>\n",
              "    <tr>\n",
              "      <th>3</th>\n",
              "      <td>1</td>\n",
              "      <td>1</td>\n",
              "      <td>1</td>\n",
              "    </tr>\n",
              "  </tbody>\n",
              "</table>\n",
              "</div>"
            ],
            "text/plain": [
              "   x1  x2  y\n",
              "0   0   0  0\n",
              "1   0   1  0\n",
              "2   1   0  0\n",
              "3   1   1  1"
            ]
          },
          "metadata": {},
          "execution_count": 4
        }
      ]
    },
    {
      "cell_type": "markdown",
      "metadata": {
        "id": "zHJjWuCB9ieP"
      },
      "source": [
        "<H4>Gráfica de la Compuerta AND, en Rojo los estados en 1:<H4>"
      ]
    },
    {
      "cell_type": "code",
      "metadata": {
        "colab": {
          "base_uri": "https://localhost:8080/",
          "height": 312
        },
        "id": "Y8wMeB8h0owy",
        "outputId": "32efa710-617d-4252-b553-683fb2856bd9"
      },
      "source": [
        "plt.scatter(x1np,x2np,c=target_y, s=80, cmap=plt.cm.Spectral_r)\n",
        "plt.title('Compuerta AND')\n",
        "plt.xlabel('x1')\n",
        "plt.ylabel('x2')"
      ],
      "execution_count": 5,
      "outputs": [
        {
          "output_type": "execute_result",
          "data": {
            "text/plain": [
              "Text(0, 0.5, 'x2')"
            ]
          },
          "metadata": {},
          "execution_count": 5
        },
        {
          "output_type": "display_data",
          "data": {
            "image/png": "[encoded data removed]",
            "text/plain": [
              "<Figure size 432x288 with 1 Axes>"
            ]
          },
          "metadata": {
            "needs_background": "light"
          }
        }
      ]
    },
    {
      "cell_type": "markdown",
      "metadata": {
        "id": "g_nQ7RTc_12x"
      },
      "source": [
        "<H4>Función de Umbral<H4>"
      ]
    },
    {
      "cell_type": "markdown",
      "metadata": {
        "id": "yKXsR4j5Us7s"
      },
      "source": [
        "# Valores W de acuerdo al seminario con W{1,1}"
      ]
    },
    {
      "cell_type": "code",
      "metadata": {
        "id": "Hnfc-HhcC87f"
      },
      "source": [
        "def umbral(funcion_estado):\n",
        "    s = []\n",
        "    for i in range(0,len(funcion_estado)):\n",
        "        if funcion_estado[i] > 1:\n",
        "            s.append(1)\n",
        "        else:\n",
        "            s.append(0)\n",
        "    return s"
      ],
      "execution_count": 6,
      "outputs": []
    },
    {
      "cell_type": "markdown",
      "metadata": {
        "id": "_M_2MM7GA6MY"
      },
      "source": [
        "<H4>McCulloch_Pits_Seminario<H4>\n",
        "<H4>w1*x1 + w2*x2<H4>"
      ]
    },
    {
      "cell_type": "code",
      "metadata": {
        "id": "VXEAPEnR-YCi"
      },
      "source": [
        "def McCulloch_Pits(x1,x2,y, w1, w2):\n",
        "    salida = []\n",
        "    funcion_estado = []\n",
        "    for i in range(0,len(y)):\n",
        "        funcion_estado.append( (w1 * x1[i]) + (w2 * x2[i]) )\n",
        "    salida = umbral(funcion_estado)\n",
        "    return funcion_estado,salida"
      ],
      "execution_count": 7,
      "outputs": []
    },
    {
      "cell_type": "markdown",
      "metadata": {
        "id": "_xXPihUeT8Xv"
      },
      "source": [
        "<H4>Se corre la función con los valores W{1,1}<H4>"
      ]
    },
    {
      "cell_type": "code",
      "metadata": {
        "colab": {
          "base_uri": "https://localhost:8080/"
        },
        "id": "RRSqWBL0KCPo",
        "outputId": "6b5a81df-0c82-455f-80e1-547da8c4020e"
      },
      "source": [
        "estados,salidas = McCulloch_Pits(x1,x2,y,w1=1,w2=1)\n",
        "print(estados,salidas)"
      ],
      "execution_count": 8,
      "outputs": [
        {
          "output_type": "stream",
          "name": "stdout",
          "text": [
            "[0, 1, 1, 2] [0, 0, 0, 1]\n"
          ]
        }
      ]
    },
    {
      "cell_type": "markdown",
      "metadata": {
        "id": "Eg6TZBWjR4Sz"
      },
      "source": [
        "<H4>DataFrame con los Valores Obtenidos de acuerdo a los valoes W vistos en Clase<H4>"
      ]
    },
    {
      "cell_type": "code",
      "metadata": {
        "colab": {
          "base_uri": "https://localhost:8080/",
          "height": 175
        },
        "id": "bxc0IkoSSF7t",
        "outputId": "3900834b-dcee-43bd-a72a-a132766e7af6"
      },
      "source": [
        "AND_Seminario_df = pd.DataFrame( {'x1': x1, 'x2':x2, 'y':y, 'w1*x1 + w2*x2':estados, 'S':salidas} )\n",
        "AND_Seminario_df"
      ],
      "execution_count": 9,
      "outputs": [
        {
          "output_type": "execute_result",
          "data": {
            "text/html": [
              "<div>\n",
              "<style scoped>\n",
              "    .dataframe tbody tr th:only-of-type {\n",
              "        vertical-align: middle;\n",
              "    }\n",
              "\n",
              "    .dataframe tbody tr th {\n",
              "        vertical-align: top;\n",
              "    }\n",
              "\n",
              "    .dataframe thead th {\n",
              "        text-align: right;\n",
              "    }\n",
              "</style>\n",
              "<table border=\"1\" class=\"dataframe\">\n",
              "  <thead>\n",
              "    <tr style=\"text-align: right;\">\n",
              "      <th></th>\n",
              "      <th>x1</th>\n",
              "      <th>x2</th>\n",
              "      <th>y</th>\n",
              "      <th>w1*x1 + w2*x2</th>\n",
              "      <th>S</th>\n",
              "    </tr>\n",
              "  </thead>\n",
              "  <tbody>\n",
              "    <tr>\n",
              "      <th>0</th>\n",
              "      <td>0</td>\n",
              "      <td>0</td>\n",
              "      <td>0</td>\n",
              "      <td>0</td>\n",
              "      <td>0</td>\n",
              "    </tr>\n",
              "    <tr>\n",
              "      <th>1</th>\n",
              "      <td>0</td>\n",
              "      <td>1</td>\n",
              "      <td>0</td>\n",
              "      <td>1</td>\n",
              "      <td>0</td>\n",
              "    </tr>\n",
              "    <tr>\n",
              "      <th>2</th>\n",
              "      <td>1</td>\n",
              "      <td>0</td>\n",
              "      <td>0</td>\n",
              "      <td>1</td>\n",
              "      <td>0</td>\n",
              "    </tr>\n",
              "    <tr>\n",
              "      <th>3</th>\n",
              "      <td>1</td>\n",
              "      <td>1</td>\n",
              "      <td>1</td>\n",
              "      <td>2</td>\n",
              "      <td>1</td>\n",
              "    </tr>\n",
              "  </tbody>\n",
              "</table>\n",
              "</div>"
            ],
            "text/plain": [
              "   x1  x2  y  w1*x1 + w2*x2  S\n",
              "0   0   0  0              0  0\n",
              "1   0   1  0              1  0\n",
              "2   1   0  0              1  0\n",
              "3   1   1  1              2  1"
            ]
          },
          "metadata": {},
          "execution_count": 9
        }
      ]
    },
    {
      "cell_type": "markdown",
      "metadata": {
        "id": "mbMKTIobnrrr"
      },
      "source": [
        "<H4>Umbral o función de activación<H4>"
      ]
    },
    {
      "cell_type": "markdown",
      "metadata": {
        "id": "TJ6LW0-JZadh"
      },
      "source": [
        "<H1>a) Ahora por favor, envíe otro modelo de McCulloch-Pits que resulte válido\n",
        "para la compuerta AND (Esto significa dar valores a w1, w2 y θ).<H1>"
      ]
    },
    {
      "cell_type": "markdown",
      "metadata": {
        "id": "6FuQN1u0UgKn"
      },
      "source": [
        "# Valores W propuestos diferentes a los vistos en Clase"
      ]
    },
    {
      "cell_type": "code",
      "metadata": {
        "id": "HBXM7XPmfdsB"
      },
      "source": [
        "def funcion_activacion(funcion_estado):\n",
        "    s = []\n",
        "    for i in range(0,len(funcion_estado)):\n",
        "        if funcion_estado[i] >= 0:\n",
        "            s.append(1)\n",
        "        else:\n",
        "            s.append(0)\n",
        "    return s"
      ],
      "execution_count": 10,
      "outputs": []
    },
    {
      "cell_type": "code",
      "metadata": {
        "id": "3mYiyUmTxh2E"
      },
      "source": [
        "def McCulloch_Pits_Propuesto(x1,x2,y, w1p, w2p, b):\n",
        "    salida = []\n",
        "    funcion_estado = []\n",
        "    b_vector = []\n",
        "    for i in range(0,len(y)):\n",
        "        funcion_estado.append( (w1p * x1[i]) + (w2p * x2[i]) + b)\n",
        "        b_vector.append(b)\n",
        "        print(w1p * x1[i])\n",
        "        print(w2p * x2[i])\n",
        "    salida = funcion_activacion(funcion_estado)\n",
        "    return funcion_estado,salida,b_vector"
      ],
      "execution_count": 11,
      "outputs": []
    },
    {
      "cell_type": "markdown",
      "metadata": {
        "id": "2WlEmYxvQJtU"
      },
      "source": [
        "<H4>Se corre la función con los valores propuestos de W{2,1}<H4>"
      ]
    },
    {
      "cell_type": "code",
      "metadata": {
        "colab": {
          "base_uri": "https://localhost:8080/"
        },
        "id": "5GBEci0iQ9af",
        "outputId": "fc121226-c0b1-44e2-8b3c-f10d5bed4fe1"
      },
      "source": [
        "estadosp,salidasp,b_vector = McCulloch_Pits_Propuesto(x1,x2,y,w1p=2,w2p=1, b=-3)\n",
        "print(estadosp,salidasp,b_vector)"
      ],
      "execution_count": 12,
      "outputs": [
        {
          "output_type": "stream",
          "name": "stdout",
          "text": [
            "0\n",
            "0\n",
            "0\n",
            "1\n",
            "2\n",
            "0\n",
            "2\n",
            "1\n",
            "[-3, -2, -1, 0] [0, 0, 0, 1] [-3, -3, -3, -3]\n"
          ]
        }
      ]
    },
    {
      "cell_type": "markdown",
      "metadata": {
        "id": "ZvNm00mbdLSB"
      },
      "source": [
        "<h2>AND con valores propuestos<h2>"
      ]
    },
    {
      "cell_type": "code",
      "metadata": {
        "id": "V-osMqf8RaoI",
        "colab": {
          "base_uri": "https://localhost:8080/",
          "height": 175
        },
        "outputId": "78adb807-f435-4962-9f4d-37551d532f59"
      },
      "source": [
        "AND_Propuesto_df = pd.DataFrame( {'x1': x1, 'x2':x2, 'b':b_vector , 'y':y, 'w1*x1 + w2*x2 + b':estadosp, 'S':salidasp} )\n",
        "AND_Propuesto_df"
      ],
      "execution_count": 13,
      "outputs": [
        {
          "output_type": "execute_result",
          "data": {
            "text/html": [
              "<div>\n",
              "<style scoped>\n",
              "    .dataframe tbody tr th:only-of-type {\n",
              "        vertical-align: middle;\n",
              "    }\n",
              "\n",
              "    .dataframe tbody tr th {\n",
              "        vertical-align: top;\n",
              "    }\n",
              "\n",
              "    .dataframe thead th {\n",
              "        text-align: right;\n",
              "    }\n",
              "</style>\n",
              "<table border=\"1\" class=\"dataframe\">\n",
              "  <thead>\n",
              "    <tr style=\"text-align: right;\">\n",
              "      <th></th>\n",
              "      <th>x1</th>\n",
              "      <th>x2</th>\n",
              "      <th>b</th>\n",
              "      <th>y</th>\n",
              "      <th>w1*x1 + w2*x2 + b</th>\n",
              "      <th>S</th>\n",
              "    </tr>\n",
              "  </thead>\n",
              "  <tbody>\n",
              "    <tr>\n",
              "      <th>0</th>\n",
              "      <td>0</td>\n",
              "      <td>0</td>\n",
              "      <td>-3</td>\n",
              "      <td>0</td>\n",
              "      <td>-3</td>\n",
              "      <td>0</td>\n",
              "    </tr>\n",
              "    <tr>\n",
              "      <th>1</th>\n",
              "      <td>0</td>\n",
              "      <td>1</td>\n",
              "      <td>-3</td>\n",
              "      <td>0</td>\n",
              "      <td>-2</td>\n",
              "      <td>0</td>\n",
              "    </tr>\n",
              "    <tr>\n",
              "      <th>2</th>\n",
              "      <td>1</td>\n",
              "      <td>0</td>\n",
              "      <td>-3</td>\n",
              "      <td>0</td>\n",
              "      <td>-1</td>\n",
              "      <td>0</td>\n",
              "    </tr>\n",
              "    <tr>\n",
              "      <th>3</th>\n",
              "      <td>1</td>\n",
              "      <td>1</td>\n",
              "      <td>-3</td>\n",
              "      <td>1</td>\n",
              "      <td>0</td>\n",
              "      <td>1</td>\n",
              "    </tr>\n",
              "  </tbody>\n",
              "</table>\n",
              "</div>"
            ],
            "text/plain": [
              "   x1  x2  b  y  w1*x1 + w2*x2 + b  S\n",
              "0   0   0 -3  0                 -3  0\n",
              "1   0   1 -3  0                 -2  0\n",
              "2   1   0 -3  0                 -1  0\n",
              "3   1   1 -3  1                  0  1"
            ]
          },
          "metadata": {},
          "execution_count": 13
        }
      ]
    },
    {
      "cell_type": "markdown",
      "metadata": {
        "id": "-W-y2b0Ca1fb"
      },
      "source": [
        "<H1>b) Haga el mismo planteamiento que se hizo para la compuerta AND, pero\n",
        "ahora para la compuerta OR, mostrando una configruración válida y una\n",
        "que no lo sea..<H1>"
      ]
    },
    {
      "cell_type": "markdown",
      "metadata": {
        "id": "DKdngyNdqjBg"
      },
      "source": [
        "<H3>Para este ejercicio no se asiganrán de manera manual los valores si no. que se hará un algoritmo desde cero para hacer una busqueda automatizada de los valores correctos\n",
        "No solo se mostrara una configuración incorrecta y una correcta, se mostrarán una lista de valores incorrectos hasta encontrar la correcta<H3>"
      ]
    },
    {
      "cell_type": "markdown",
      "metadata": {
        "id": "6AMmVg1rd7KS"
      },
      "source": [
        "<H3>Tabla de Verdad de la compuerta OR:<H3>"
      ]
    },
    {
      "cell_type": "code",
      "metadata": {
        "colab": {
          "base_uri": "https://localhost:8080/",
          "height": 175
        },
        "id": "sKXx7idArHTv",
        "outputId": "81f78e7f-ae8d-4887-ca67-42df674f11d9"
      },
      "source": [
        "OR_df = pd.DataFrame({'x1':[0,0,1,1],'x2':[0,1,0,1],'y_OR':[0,1,1,1]})\n",
        "OR_df"
      ],
      "execution_count": 14,
      "outputs": [
        {
          "output_type": "execute_result",
          "data": {
            "text/html": [
              "<div>\n",
              "<style scoped>\n",
              "    .dataframe tbody tr th:only-of-type {\n",
              "        vertical-align: middle;\n",
              "    }\n",
              "\n",
              "    .dataframe tbody tr th {\n",
              "        vertical-align: top;\n",
              "    }\n",
              "\n",
              "    .dataframe thead th {\n",
              "        text-align: right;\n",
              "    }\n",
              "</style>\n",
              "<table border=\"1\" class=\"dataframe\">\n",
              "  <thead>\n",
              "    <tr style=\"text-align: right;\">\n",
              "      <th></th>\n",
              "      <th>x1</th>\n",
              "      <th>x2</th>\n",
              "      <th>y_OR</th>\n",
              "    </tr>\n",
              "  </thead>\n",
              "  <tbody>\n",
              "    <tr>\n",
              "      <th>0</th>\n",
              "      <td>0</td>\n",
              "      <td>0</td>\n",
              "      <td>0</td>\n",
              "    </tr>\n",
              "    <tr>\n",
              "      <th>1</th>\n",
              "      <td>0</td>\n",
              "      <td>1</td>\n",
              "      <td>1</td>\n",
              "    </tr>\n",
              "    <tr>\n",
              "      <th>2</th>\n",
              "      <td>1</td>\n",
              "      <td>0</td>\n",
              "      <td>1</td>\n",
              "    </tr>\n",
              "    <tr>\n",
              "      <th>3</th>\n",
              "      <td>1</td>\n",
              "      <td>1</td>\n",
              "      <td>1</td>\n",
              "    </tr>\n",
              "  </tbody>\n",
              "</table>\n",
              "</div>"
            ],
            "text/plain": [
              "   x1  x2  y_OR\n",
              "0   0   0     0\n",
              "1   0   1     1\n",
              "2   1   0     1\n",
              "3   1   1     1"
            ]
          },
          "metadata": {},
          "execution_count": 14
        }
      ]
    },
    {
      "cell_type": "markdown",
      "metadata": {
        "id": "TN70csfNdXVd"
      },
      "source": [
        "<H2>Gráfica de estados de la compuerta OR<H2>"
      ]
    },
    {
      "cell_type": "code",
      "metadata": {
        "colab": {
          "base_uri": "https://localhost:8080/",
          "height": 312
        },
        "id": "5nlB6B1jeJ-B",
        "outputId": "043f3b24-9fce-4889-8a9e-a7bb297f024e"
      },
      "source": [
        "plt.scatter(OR_df['x1'],OR_df['x2'],c=OR_df['y_OR'],s=80,cmap=plt.cm.Spectral_r)\n",
        "plt.xlabel('x1')\n",
        "plt.ylabel('x2')\n",
        "plt.title('Compuerta OR')"
      ],
      "execution_count": 15,
      "outputs": [
        {
          "output_type": "execute_result",
          "data": {
            "text/plain": [
              "Text(0.5, 1.0, 'Compuerta OR')"
            ]
          },
          "metadata": {},
          "execution_count": 15
        },
        {
          "output_type": "display_data",
          "data": {
            "image/png": "[encoded data removed]",
            "text/plain": [
              "<Figure size 432x288 with 1 Axes>"
            ]
          },
          "metadata": {
            "needs_background": "light"
          }
        }
      ]
    },
    {
      "cell_type": "code",
      "metadata": {
        "colab": {
          "base_uri": "https://localhost:8080/"
        },
        "id": "tD3-h9RBoP73",
        "outputId": "40ca6c38-0890-4bed-8c0c-56d694349217"
      },
      "source": [
        "arreglo_pesos = np.random.randint(-5,5,size=(10000,3))\n",
        "print(arreglo_pesos)"
      ],
      "execution_count": 45,
      "outputs": [
        {
          "output_type": "stream",
          "name": "stdout",
          "text": [
            "[[ 4 -3  2]\n",
            " [ 0 -1 -4]\n",
            " [ 0  4 -3]\n",
            " ...\n",
            " [-3 -5  0]\n",
            " [-3  4  2]\n",
            " [ 1  2 -4]]\n"
          ]
        }
      ]
    },
    {
      "cell_type": "code",
      "metadata": {
        "colab": {
          "base_uri": "https://localhost:8080/"
        },
        "id": "V6kfzFjSeyCN",
        "outputId": "3351938d-a007-4c97-b330-757e5eda2684"
      },
      "source": [
        "arreglo_or = [2,2,-2]\n",
        "posicion = ''\n",
        "for i in range(0,len(arreglo_pesos)-1):\n",
        "    if arreglo_pesos[i][0] == 2 and arreglo_pesos[i][1] == 2 and arreglo_pesos[i][2] == -2:\n",
        "        posicion = 'encontrado en ' + str(i)\n",
        "print(posicion)"
      ],
      "execution_count": 46,
      "outputs": [
        {
          "output_type": "stream",
          "name": "stdout",
          "text": [
            "encontrado en 9579\n"
          ]
        }
      ]
    },
    {
      "cell_type": "code",
      "metadata": {
        "colab": {
          "base_uri": "https://localhost:8080/"
        },
        "id": "rbz71X53naw1",
        "outputId": "388096d3-06c8-4a63-92c6-92bd55258bbd"
      },
      "source": [
        "arreglo_pesos[9579]"
      ],
      "execution_count": 47,
      "outputs": [
        {
          "output_type": "execute_result",
          "data": {
            "text/plain": [
              "array([ 2,  2, -2])"
            ]
          },
          "metadata": {},
          "execution_count": 47
        }
      ]
    },
    {
      "cell_type": "markdown",
      "metadata": {
        "id": "k8AlUfzow--v"
      },
      "source": [
        "<>Se define la función para crear la neurona artificial:<>"
      ]
    },
    {
      "cell_type": "code",
      "metadata": {
        "id": "NVIC0yTkxd5T"
      },
      "source": [
        "#Entra un array y sale otro\n",
        "#Se dfine la función de activación:\n",
        "def funcion_activacion_compuertas(estados_compuertas):\n",
        "    salidas = []\n",
        "    for i in range(0,len(estados_compuertas)):\n",
        "        #Print statements durante el proceso de creación de código\n",
        "        #print('estados:' + str(estados_compuertas[i]) + 'i' + str(i))\n",
        "        if estados_compuertas[i] >= 0:\n",
        "            salidas.append(1)\n",
        "        else:\n",
        "            salidas.append(0)\n",
        "    return salidas"
      ],
      "execution_count": 120,
      "outputs": []
    },
    {
      "cell_type": "code",
      "metadata": {
        "id": "EiMKRIhqpQqA"
      },
      "source": [
        "def neurona_compuertas_logicas(x1,x2,y):\n",
        "    w1=0\n",
        "    w2=0\n",
        "    b=0\n",
        "    \n",
        "    #Se define una variable que contendrá el vector de resultados obtenidos\n",
        "    vector_resultados = []\n",
        "    # Se crea un arreglo de listas para contener las posibles combinaciones de Pesos w y Bias b\n",
        "    arreglo_pesos = np.random.randint(-5,5,size=(10000,3))\n",
        "    #se Crea un ciclo For para evaluar todas las posibles combinaciones\n",
        "    for i in range(0,len(arreglo_pesos)):\n",
        "        #Se define el arreglo que contendrá los estados antes de pasar por la función de activación\n",
        "        estados = []\n",
        "        \n",
        "        #Se define la variable de salida que será un areglo de 4 elementos\n",
        "        salida = []\n",
        "        # Se crean las ecuaciones para los 4 estados posibles de la Compuerta Lógica\n",
        "\n",
        "        pesos = arreglo_pesos[i].tolist()\n",
        "\n",
        "        #Valores correctos previamente encontrados se dejan como nota\n",
        "        #pesos = [2,2,-2]\n",
        "\n",
        "        #Print statements durante el proceso de creación de código\n",
        "        #print('arreglo pesos' + str(pesos[0]) + ',' + str(pesos[1]) + ',' + str(pesos[2]))\n",
        "\n",
        "        estados.append(x1[0]*pesos[0] + x2[0]*pesos[1] + pesos[2])\n",
        "        estados.append(x1[1]*pesos[0] + x2[1]*pesos[1] + pesos[2])\n",
        "        estados.append(x1[2]*pesos[0] + x2[2]*pesos[1] + pesos[2])\n",
        "        estados.append(x1[3]*pesos[0] + x2[3]*pesos[1] + pesos[2])\n",
        "        \n",
        "        #Print statements durante el proceso de creación de código\n",
        "        #print('estados' + str(estados))\n",
        "\n",
        "        #Se usa la función de activación para la salida\n",
        "        salida = funcion_activacion_compuertas(estados)\n",
        "        \n",
        "        #Print statements durante el proceso de creación de código\n",
        "        #print('salida' + str(salida))\n",
        "\n",
        "        #Se compara la salida con los valores reales de la compuerta \"y\"\n",
        "        \n",
        "        resultados = 0\n",
        "        \n",
        "        \n",
        "        if salida[0] == y[0]:\n",
        "            resultados += 1\n",
        "        if salida[1] == y[1]:\n",
        "            resultados += 1\n",
        "        if salida[2] == y[2]:\n",
        "            resultados += 1\n",
        "        if salida[3] == y[3]:\n",
        "            resultados += 1\n",
        "\n",
        "        resultados = ( resultados ) / 4\n",
        "        vector_resultados.append(resultados)\n",
        "\n",
        "        #Print statements durante el proceso de creación de código\n",
        "        #print(resultados)\n",
        "\n",
        "        if resultados == 1 and (salida[0] == y[0] and salida[1] == y[1] and salida[2] == y[2] and salida[3] == y[3]):\n",
        "            w1 = pesos[0]\n",
        "            w2 = pesos[0]\n",
        "            b = pesos[0]\n",
        "            break\n",
        "    \n",
        "    if max(vector_resultados) < 1:\n",
        "        valores_ideales_no_encontrados = 1\n",
        "    else:\n",
        "        valores_ideales_no_encontrados = 0\n",
        "\n",
        "    vector_resultados.sort()\n",
        "\n",
        "    return w1, w2, b, vector_resultados, valores_ideales_no_encontrados"
      ],
      "execution_count": 201,
      "outputs": []
    },
    {
      "cell_type": "markdown",
      "metadata": {
        "id": "hMZ5EuA9cIAO"
      },
      "source": [
        "<h2>Se corre la función con los valores reales de la compuerta OR<h2>"
      ]
    },
    {
      "cell_type": "code",
      "metadata": {
        "colab": {
          "base_uri": "https://localhost:8080/"
        },
        "id": "gx6zPog0LVoJ",
        "outputId": "e1dba526-d5c6-4ef2-dbcb-e0009ba507ed"
      },
      "source": [
        "x1 = [1,0,0,1]\n",
        "x2 = [0,1,0,1]\n",
        "y = [1,1,0,1]\n",
        "w1, w2, b, vector_resultados, valores_ideales_no_encontrados = neurona_compuertas_logicas(x1,x2,y)\n",
        "print(w1)\n",
        "print(w2)\n",
        "print(b)\n",
        "print(valores_ideales_no_encontrados)\n",
        "print(len(vector_resultados))"
      ],
      "execution_count": 216,
      "outputs": [
        {
          "output_type": "stream",
          "name": "stdout",
          "text": [
            "1\n",
            "1\n",
            "1\n",
            "0\n",
            "95\n"
          ]
        }
      ]
    },
    {
      "cell_type": "markdown",
      "metadata": {
        "id": "kMCq22Z2erhl"
      },
      "source": [
        "<h3>Gráfica de iteraciones para llegar a la matriz de Pesos W y Bias b<h3>"
      ]
    },
    {
      "cell_type": "code",
      "metadata": {
        "colab": {
          "base_uri": "https://localhost:8080/",
          "height": 299
        },
        "id": "RzULqOQ9d69f",
        "outputId": "3e53fa60-79e6-4e5a-cf5b-f4d8d0dcb37a"
      },
      "source": [
        "plt.plot(vector_resultados)\n",
        "plt.show()\n",
        "print()\n",
        "print()"
      ],
      "execution_count": 217,
      "outputs": [
        {
          "output_type": "display_data",
          "data": {
            "image/png": "[encoded data removed]",
            "text/plain": [
              "<Figure size 432x288 with 1 Axes>"
            ]
          },
          "metadata": {
            "needs_background": "light"
          }
        },
        {
          "output_type": "stream",
          "name": "stdout",
          "text": [
            "\n",
            "\n"
          ]
        }
      ]
    },
    {
      "cell_type": "markdown",
      "metadata": {
        "id": "0LcbBp4He1jZ"
      },
      "source": [
        "<h3>Función Propuesta:\n",
        "    X1*Wx1 + X2*Wx2 + b\n",
        "<h3>"
      ]
    },
    {
      "cell_type": "code",
      "metadata": {
        "colab": {
          "base_uri": "https://localhost:8080/"
        },
        "id": "bVrRkFJVfqxP",
        "outputId": "172caab1-3843-47e5-e923-342cc9a9e5ad"
      },
      "source": [
        "print('Con valores W1: ' + str(w1) + ' W2: ' + str(w2) + ' b: ' + str(b))"
      ],
      "execution_count": 218,
      "outputs": [
        {
          "output_type": "stream",
          "name": "stdout",
          "text": [
            "Con valores W1: 1 W2: 1 b: 1\n"
          ]
        }
      ]
    }
  ]
}